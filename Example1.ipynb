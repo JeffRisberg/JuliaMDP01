{
 "cells": [
  {
   "cell_type": "code",
   "execution_count": 1,
   "metadata": {},
   "outputs": [
    {
     "name": "stderr",
     "output_type": "stream",
     "text": [
      "┌ Info: Precompiling PLite [7876af07-990d-54b4-8888-23690620f79a]\n",
      "└ @ Base loading.jl:1317\n",
      "\u001b[33m\u001b[1m┌ \u001b[22m\u001b[39m\u001b[33m\u001b[1mWarning: \u001b[22m\u001b[39mPackage PLite does not have SharedArrays in its dependencies:\n",
      "\u001b[33m\u001b[1m│ \u001b[22m\u001b[39m- If you have PLite checked out for development and have\n",
      "\u001b[33m\u001b[1m│ \u001b[22m\u001b[39m  added SharedArrays as a dependency but haven't updated your primary\n",
      "\u001b[33m\u001b[1m│ \u001b[22m\u001b[39m  environment's manifest file, try `Pkg.resolve()`.\n",
      "\u001b[33m\u001b[1m│ \u001b[22m\u001b[39m- Otherwise you may need to report an issue with PLite\n",
      "\u001b[33m\u001b[1m└ \u001b[22m\u001b[39mLoading SharedArrays into PLite from project dependency, future warnings for PLite are suppressed.\n",
      "WARNING: Method definition (::Type{PLite.LazyDiscrete})(AbstractString, Float64) in module PLite at /Users/jeff/.julia/packages/PLite/HjLJ8/src/valueiteration.jl:19 overwritten at /Users/jeff/.julia/packages/PLite/HjLJ8/src/mcts.jl:41.\n",
      "  ** incremental compilation may be fatally broken for this module **\n",
      "\n",
      "WARNING: Method definition getspace(Int64, Array{String, 1}, Base.Dict{AbstractString, PLite.LazyVar}, Base.Dict{AbstractString, PLite.LazyDiscrete}) in module PLite at /Users/jeff/.julia/packages/PLite/HjLJ8/src/valueiteration_solver.jl:23 overwritten at /Users/jeff/.julia/packages/PLite/HjLJ8/src/mcts_solver.jl:21.\n",
      "  ** incremental compilation may be fatally broken for this module **\n",
      "\n",
      "WARNING: Method definition getvar(GridInterpolations.RectangleGrid{D} where D, Base.Dict{AbstractString, PLite.LazyVar}, Array{String, 1}, Int64) in module PLite at /Users/jeff/.julia/packages/PLite/HjLJ8/src/valueiteration_solver.jl:49 overwritten at /Users/jeff/.julia/packages/PLite/HjLJ8/src/mcts_serial.jl:144.\n",
      "  ** incremental compilation may be fatally broken for this module **\n",
      "\n"
     ]
    }
   ],
   "source": [
    "using PLite"
   ]
  },
  {
   "cell_type": "code",
   "execution_count": 2,
   "metadata": {},
   "outputs": [
    {
     "data": {
      "text/plain": [
       "MDP(Dict{AbstractString, PLite.LazyVar}(), Dict{AbstractString, PLite.LazyVar}(), PLite.LazyFunc(true, String[], PLite.var\"#emptyfunc#1\"()), PLite.LazyFunc(true, String[], PLite.var\"#emptyfunc#1\"()))"
      ]
     },
     "execution_count": 2,
     "metadata": {},
     "output_type": "execute_result"
    }
   ],
   "source": [
    "# constants\n",
    "const MinX = 0\n",
    "const MaxX = 100\n",
    "const StepX = 20\n",
    "\n",
    "# mdp definition\n",
    "mdp = MDP()"
   ]
  },
  {
   "cell_type": "code",
   "execution_count": 3,
   "metadata": {},
   "outputs": [
    {
     "data": {
      "text/plain": [
       "PLite.ValuesVar(\"move\", [\"W\", \"E\", \"stop\"])"
      ]
     },
     "execution_count": 3,
     "metadata": {},
     "output_type": "execute_result"
    }
   ],
   "source": [
    "# state space\n",
    "statevariable!(mdp, \"x\", MinX, MaxX)  # continuous\n",
    "statevariable!(mdp, \"goal\", [\"no\", \"yes\"])  # discrete\n",
    "\n",
    "# action space\n",
    "actionvariable!(mdp, \"move\", [\"W\", \"E\", \"stop\"])  # discrete"
   ]
  },
  {
   "cell_type": "code",
   "execution_count": 4,
   "metadata": {},
   "outputs": [
    {
     "data": {
      "text/plain": [
       "mytransition (generic function with 1 method)"
      ]
     },
     "execution_count": 4,
     "metadata": {},
     "output_type": "execute_result"
    }
   ],
   "source": [
    "function isgoal(x::Float64)\n",
    "  if abs(x - MaxX / 2) < StepX\n",
    "    return \"yes\"\n",
    "  else\n",
    "    return \"no\"\n",
    "  end\n",
    "end\n",
    "\n",
    "function mytransition(x::Float64, goal::AbstractString, move::AbstractString)\n",
    "  if isgoal(x) == \"yes\" && goal == \"yes\"\n",
    "    return [([x, isgoal(x)], 1.0)]\n",
    "  end\n",
    "\n",
    "  if move == \"E\"\n",
    "    if x >= MaxX\n",
    "      return [\n",
    "        ([x, isgoal(x)], 0.9),\n",
    "        ([x - StepX, isgoal(x - StepX)], 0.1)]\n",
    "    elseif x <= MinX\n",
    "      return [\n",
    "        ([x, isgoal(x)], 0.2),\n",
    "        ([x + StepX, isgoal(x + StepX)], 0.8)]\n",
    "    else\n",
    "      return [\n",
    "        ([x, isgoal(x)], 0.1),\n",
    "        ([x - StepX, isgoal(x - StepX)], 0.1),\n",
    "        ([x + StepX, isgoal(x + StepX)], 0.8)]\n",
    "    end\n",
    "  elseif move == \"W\"\n",
    "    if x >= MaxX\n",
    "      return [\n",
    "        ([x, isgoal(x)], 0.1),\n",
    "        ([x - StepX, isgoal(x - StepX)], 0.9)]\n",
    "    elseif x <= MinX\n",
    "      return [\n",
    "        ([x, isgoal(x)], 0.9),\n",
    "        ([x + StepX, isgoal(x + StepX)], 0.1)]\n",
    "    else\n",
    "      return [\n",
    "        ([x, isgoal(x)], 0.1),\n",
    "        ([x - StepX, isgoal(x - StepX)], 0.8),\n",
    "        ([x + StepX, isgoal(x + StepX)], 0.1)]\n",
    "    end\n",
    "  elseif move == \"stop\"\n",
    "    return [([x, isgoal(x)], 1.0)]\n",
    "  end\n",
    "end"
   ]
  },
  {
   "cell_type": "code",
   "execution_count": 5,
   "metadata": {},
   "outputs": [
    {
     "data": {
      "text/plain": [
       "PLite.LazyFunc(false, [\"x\", \"goal\", \"move\"], mytransition)"
      ]
     },
     "execution_count": 5,
     "metadata": {},
     "output_type": "execute_result"
    }
   ],
   "source": [
    "transition!(mdp, [\"x\", \"goal\", \"move\"], mytransition)"
   ]
  },
  {
   "cell_type": "code",
   "execution_count": 6,
   "metadata": {},
   "outputs": [
    {
     "data": {
      "text/plain": [
       "PLite.LazyFunc(false, [\"x\", \"goal\", \"move\"], myreward)"
      ]
     },
     "execution_count": 6,
     "metadata": {},
     "output_type": "execute_result"
    }
   ],
   "source": [
    "function myreward(x::Float64, goal::AbstractString, move::AbstractString)\n",
    "  if goal == \"yes\" && move == \"stop\"\n",
    "    return 1\n",
    "  else\n",
    "    return 0\n",
    "  end\n",
    "end\n",
    "\n",
    "reward!(mdp, [\"x\", \"goal\", \"move\"], myreward)"
   ]
  },
  {
   "cell_type": "code",
   "execution_count": 7,
   "metadata": {},
   "outputs": [
    {
     "data": {
      "text/plain": [
       "SerialValueIteration(true, 1000, 0.0001, 0.99, Dict{AbstractString, PLite.LazyDiscrete}(), Dict{AbstractString, PLite.LazyDiscrete}(), GridInterpolations.RectangleGrid{0}(), GridInterpolations.RectangleGrid{0}())"
      ]
     },
     "execution_count": 7,
     "metadata": {},
     "output_type": "execute_result"
    }
   ],
   "source": [
    "solver = SerialValueIteration()"
   ]
  },
  {
   "cell_type": "code",
   "execution_count": 8,
   "metadata": {},
   "outputs": [
    {
     "data": {
      "text/plain": [
       "PLite.LazyDiscrete(\"x\", 20.0)"
      ]
     },
     "execution_count": 8,
     "metadata": {},
     "output_type": "execute_result"
    }
   ],
   "source": [
    "const StepX = 20\n",
    "discretize_statevariable!(solver, \"x\", StepX)"
   ]
  },
  {
   "cell_type": "code",
   "execution_count": 9,
   "metadata": {},
   "outputs": [
    {
     "data": {
      "text/plain": [
       "PLite.LazyDiscrete(\"x\", 20.0)"
      ]
     },
     "execution_count": 9,
     "metadata": {},
     "output_type": "execute_result"
    }
   ],
   "source": [
    "solver = SerialValueIteration(maxiter=40, discount=1, verbose=true)\n",
    "discretize_statevariable!(solver, \"x\", StepX)"
   ]
  },
  {
   "cell_type": "code",
   "execution_count": 10,
   "metadata": {},
   "outputs": [
    {
     "name": "stderr",
     "output_type": "stream",
     "text": [
      "┌ Info: mdp and value iteration solver passed basic checks\n",
      "└ @ PLite /Users/jeff/.julia/packages/PLite/HjLJ8/src/valueiteration_checks.jl:5\n"
     ]
    },
    {
     "name": "stdout",
     "output_type": "stream",
     "text": [
      "iter 0, resid: 1.0\n",
      "iter 1, resid: 1.0\n",
      "iter 2, resid: 1.0\n",
      "iter 3, resid: 1.0\n",
      "iter 4, resid: 1.0\n",
      "iter 5, resid: 1.0\n",
      "iter 6, resid: 1.0\n",
      "iter 7, resid: 1.0\n",
      "iter 8, resid: 1.0\n",
      "iter 9, resid: 1.0\n",
      "iter 10, resid: 1.0\n",
      "iter 11, resid: 1.0\n",
      "iter 12, resid: 1.0\n",
      "iter 13, resid: 1.0\n",
      "iter 14, resid: 1.0\n",
      "iter 15, resid: 1.0\n",
      "iter 16, resid: 1.0\n",
      "iter 17, resid: 1.0\n",
      "iter 18, resid: 1.0\n",
      "iter 19, resid: 1.0\n",
      "iter 20, resid: 1.0\n",
      "iter 21, resid: 1.0\n",
      "iter 22, resid: 1.0\n",
      "iter 23, resid: 1.0\n",
      "iter 24, resid: 1.0\n",
      "iter 25, resid: 1.0\n",
      "iter 26, resid: 1.0\n",
      "iter 27, resid: 1.0\n",
      "iter 28, resid: 1.0\n",
      "iter 29, resid: 1.0\n",
      "iter 30, resid: 1.0\n",
      "iter 31, resid: 1.0\n",
      "iter 32, resid: 1.0\n",
      "iter 33, resid: 1.0\n",
      "iter 34, resid: 1.0\n",
      "iter 35, resid: 1.0\n",
      "iter 36, resid: 1.0\n",
      "iter 37, resid: 1.0\n",
      "iter 38, resid: 1.0\n",
      "iter 39, resid: 1.0\n"
     ]
    },
    {
     "name": "stderr",
     "output_type": "stream",
     "text": [
      "┌ Warning: maximum number of iterations reached; check accuracy of solutions\n",
      "└ @ PLite /Users/jeff/.julia/packages/PLite/HjLJ8/src/valueiteration_serial.jl:90\n",
      "┌ Info: value iteration solution generated\n",
      "│ cputime [s] = 0.0\n",
      "│ number of iterations = 40\n",
      "│ residual = 1.0\n",
      "└ @ PLite /Users/jeff/.julia/packages/PLite/HjLJ8/src/valueiteration_serial.jl:94\n"
     ]
    },
    {
     "data": {
      "text/plain": [
       "PLite.ValueIterationSolution([36.468750000000036 36.734375000000036 … 38.611111111111114 37.5; 37.34375000000002 38.59375000000001 … 36.861111111111114 36.611111111111114; 36.34375000000004 37.593750000000014 … 38.611111111111114 37.5], GridInterpolations.RectangleGrid{2}([0.0, 20.0, 40.0, 60.0, 80.0, 100.0],[1.0, 2.0],), GridInterpolations.RectangleGrid{1}([1.0, 2.0, 3.0],), 0.0, 40, 1.0)"
      ]
     },
     "execution_count": 10,
     "metadata": {},
     "output_type": "execute_result"
    }
   ],
   "source": [
    "solution = solve(mdp, solver)"
   ]
  },
  {
   "cell_type": "code",
   "execution_count": null,
   "metadata": {},
   "outputs": [],
   "source": []
  },
  {
   "cell_type": "code",
   "execution_count": null,
   "metadata": {},
   "outputs": [],
   "source": []
  }
 ],
 "metadata": {
  "kernelspec": {
   "display_name": "Julia 1.6.0",
   "language": "julia",
   "name": "julia-1.6"
  },
  "language_info": {
   "file_extension": ".jl",
   "mimetype": "application/julia",
   "name": "julia",
   "version": "1.6.0"
  }
 },
 "nbformat": 4,
 "nbformat_minor": 4
}
